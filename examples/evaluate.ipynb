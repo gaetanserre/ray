{
 "cells": [
  {
   "cell_type": "markdown",
   "metadata": {},
   "source": [
    "### Import and register model"
   ]
  },
  {
   "cell_type": "code",
   "execution_count": 1,
   "metadata": {},
   "outputs": [],
   "source": [
    "from ray.rllib.contrib.alpha_zero.core.alpha_zero_trainer import AlphaZeroTrainer\n",
    "from ray.rllib.policy.sample_batch import DEFAULT_POLICY_ID\n",
    "from ray.rllib.policy.policy_map import PolicyMap\n",
    "from ray.rllib.evaluation.episode import Episode\n",
    "from ray.rllib.models.catalog import ModelCatalog\n",
    "import numpy as np\n",
    "\n",
    "from parameters import parameters\n",
    "\n",
    "ModelCatalog.register_custom_model(\"model\", parameters[\"model\"])"
   ]
  },
  {
   "cell_type": "code",
   "execution_count": 2,
   "metadata": {},
   "outputs": [],
   "source": [
    "checkpoint_path = \"exps/AlphaZero_TicTacToe/contrib_AlphaZero_TicTacToe_8aae7_00000_0_2022-05-11_07-52-31/checkpoint_000040/checkpoint-40\""
   ]
  },
  {
   "cell_type": "markdown",
   "metadata": {},
   "source": [
    "### Evaluation parameters"
   ]
  },
  {
   "cell_type": "code",
   "execution_count": 3,
   "metadata": {},
   "outputs": [],
   "source": [
    "parameters[\"config\"][\"mcts_config\"][\"num_simulations\"] = 1000\n",
    "parameters[\"config\"][\"mcts_config\"][\"argmax_tree_policy\"] = True\n",
    "parameters[\"config\"][\"mcts_config\"][\"add_dirichlet_noise\"] = False\n",
    "parameters[\"config\"][\"mcts_config\"][\"temperature\"] = 1"
   ]
  },
  {
   "cell_type": "markdown",
   "metadata": {},
   "source": [
    "### Load the agent"
   ]
  },
  {
   "cell_type": "code",
   "execution_count": 4,
   "metadata": {},
   "outputs": [
    {
     "name": "stderr",
     "output_type": "stream",
     "text": [
      "2022-05-25 18:02:46,779\tWARNING deprecation.py:46 -- DeprecationWarning: `simple_optimizer` has been deprecated. This will raise an error in the future!\n",
      "\u001b[2m\u001b[36m(RolloutWorker pid=111198)\u001b[0m 2022-05-25 18:02:51,777\tWARNING rollout_worker.py:498 -- We've added a module for checking environments that are used in experiments. It will cause your environment to fail if your environment is not set upcorrectly. You can disable check env by setting `disable_env_checking` to True in your experiment config dictionary. You can run the environment checking module standalone by calling ray.rllib.utils.check_env(env).\n",
      "\u001b[2m\u001b[36m(RolloutWorker pid=111198)\u001b[0m 2022-05-25 18:02:51,777\tWARNING env.py:120 -- Your env doesn't have a .spec.max_episode_steps attribute. This is fine if you have set 'horizon' in your config dictionary, or `soft_horizon`. However, if you haven't, 'horizon' will default to infinity, and your environment will not be reset.\n",
      "\u001b[2m\u001b[36m(RolloutWorker pid=111200)\u001b[0m 2022-05-25 18:02:51,733\tWARNING rollout_worker.py:498 -- We've added a module for checking environments that are used in experiments. It will cause your environment to fail if your environment is not set upcorrectly. You can disable check env by setting `disable_env_checking` to True in your experiment config dictionary. You can run the environment checking module standalone by calling ray.rllib.utils.check_env(env).\n",
      "\u001b[2m\u001b[36m(RolloutWorker pid=111200)\u001b[0m 2022-05-25 18:02:51,733\tWARNING env.py:120 -- Your env doesn't have a .spec.max_episode_steps attribute. This is fine if you have set 'horizon' in your config dictionary, or `soft_horizon`. However, if you haven't, 'horizon' will default to infinity, and your environment will not be reset.\n",
      "2022-05-25 18:02:51,841\tWARNING util.py:60 -- Install gputil for GPU system monitoring.\n",
      "2022-05-25 18:02:51,850\tINFO trainable.py:534 -- Restored on 192.168.0.22 from checkpoint: exps/AlphaZero_TicTacToe/contrib_AlphaZero_TicTacToe_8aae7_00000_0_2022-05-11_07-52-31/checkpoint_000040/checkpoint-40\n",
      "2022-05-25 18:02:51,851\tINFO trainable.py:543 -- Current state after restoring: {'_iteration': 40, '_timesteps_total': 42293, '_time_total': 7048.661424875259, '_episodes_total': 4943}\n"
     ]
    }
   ],
   "source": [
    "agent = AlphaZeroTrainer(env=parameters[\"env\"], config=parameters[\"config\"])\n",
    "agent.restore(checkpoint_path)\n",
    "policy = agent.get_policy()\n",
    "\n",
    "env = parameters[\"env\"]()"
   ]
  },
  {
   "cell_type": "markdown",
   "metadata": {},
   "source": [
    "### Test the agent\n",
    "\n",
    "- If `use_model_only` is `True`, the actions are chosen using only the policy network\n",
    "- If `vs_human` is `True`, you can play vs the agent by entering a valid action"
   ]
  },
  {
   "cell_type": "code",
   "execution_count": 5,
   "metadata": {},
   "outputs": [],
   "source": [
    "use_model_only = False\n",
    "vs_human = False"
   ]
  },
  {
   "cell_type": "code",
   "execution_count": 6,
   "metadata": {},
   "outputs": [
    {
     "name": "stdout",
     "output_type": "stream",
     "text": [
      "6\n"
     ]
    },
    {
     "data": {
      "image/png": "[encoded data removed]",
      "text/plain": [
       "<Figure size 432x288 with 1 Axes>"
      ]
     },
     "metadata": {
      "needs_background": "light"
     },
     "output_type": "display_data"
    },
    {
     "name": "stdout",
     "output_type": "stream",
     "text": [
      "4\n"
     ]
    },
    {
     "data": {
      "image/png": "[encoded data removed]",
      "text/plain": [
       "<Figure size 432x288 with 1 Axes>"
      ]
     },
     "metadata": {
      "needs_background": "light"
     },
     "output_type": "display_data"
    },
    {
     "name": "stdout",
     "output_type": "stream",
     "text": [
      "3\n"
     ]
    },
    {
     "data": {
      "image/png": "[encoded data removed]",
      "text/plain": [
       "<Figure size 432x288 with 1 Axes>"
      ]
     },
     "metadata": {
      "needs_background": "light"
     },
     "output_type": "display_data"
    },
    {
     "name": "stdout",
     "output_type": "stream",
     "text": [
      "0\n"
     ]
    },
    {
     "data": {
      "image/png": "[encoded data removed]",
      "text/plain": [
       "<Figure size 432x288 with 1 Axes>"
      ]
     },
     "metadata": {
      "needs_background": "light"
     },
     "output_type": "display_data"
    },
    {
     "name": "stdout",
     "output_type": "stream",
     "text": [
      "8\n"
     ]
    },
    {
     "data": {
      "image/png": "[encoded data removed]",
      "text/plain": [
       "<Figure size 432x288 with 1 Axes>"
      ]
     },
     "metadata": {
      "needs_background": "light"
     },
     "output_type": "display_data"
    },
    {
     "name": "stdout",
     "output_type": "stream",
     "text": [
      "7\n"
     ]
    },
    {
     "data": {
      "image/png": "[encoded data removed]",
      "text/plain": [
       "<Figure size 432x288 with 1 Axes>"
      ]
     },
     "metadata": {
      "needs_background": "light"
     },
     "output_type": "display_data"
    },
    {
     "name": "stdout",
     "output_type": "stream",
     "text": [
      "1\n"
     ]
    },
    {
     "data": {
      "image/png": "[encoded data removed]",
      "text/plain": [
       "<Figure size 432x288 with 1 Axes>"
      ]
     },
     "metadata": {
      "needs_background": "light"
     },
     "output_type": "display_data"
    },
    {
     "name": "stdout",
     "output_type": "stream",
     "text": [
      "5\n"
     ]
    },
    {
     "data": {
      "image/png": "[encoded data removed]",
      "text/plain": [
       "<Figure size 432x288 with 1 Axes>"
      ]
     },
     "metadata": {
      "needs_background": "light"
     },
     "output_type": "display_data"
    },
    {
     "name": "stdout",
     "output_type": "stream",
     "text": [
      "2\n"
     ]
    },
    {
     "data": {
      "image/png": "[encoded data removed]",
      "text/plain": [
       "<Figure size 432x288 with 1 Axes>"
      ]
     },
     "metadata": {
      "needs_background": "light"
     },
     "output_type": "display_data"
    }
   ],
   "source": [
    "episode = Episode(\n",
    "    PolicyMap(0,0),\n",
    "    lambda _, __: DEFAULT_POLICY_ID,\n",
    "    lambda: None,\n",
    "    lambda _: None,\n",
    "    0,\n",
    ")\n",
    "\n",
    "obs = env.reset()\n",
    "\n",
    "count = 0\n",
    "done = False\n",
    "while not done:\n",
    "  episode.user_data['initial_state'] = env.get_state()\n",
    "  if count % 2 == 0 or not vs_human:\n",
    "    if use_model_only:\n",
    "      obs[\"obs\"] = torch.from_numpy(obs[\"obs\"]).float()\n",
    "      valid_action = obs[\"action_mask\"].astype(bool)\n",
    "      action = policy.model.forward(obs, None, None)[0]\n",
    "      action[~valid_action] = -np.inf\n",
    "      action = torch.argmax(action).item()\n",
    "    else:\n",
    "      action, _, _ = policy.compute_single_action(obs, episode=episode)\n",
    "  else:\n",
    "    action = int(input(\"Type a valid action:\"))\n",
    "  print(action)\n",
    "  obs, reward, done, _ = env.step(action)\n",
    "  env.render()\n",
    "  count += 1"
   ]
  },
  {
   "cell_type": "markdown",
   "metadata": {},
   "source": [
    "### Test the policy network"
   ]
  },
  {
   "cell_type": "code",
   "execution_count": 7,
   "metadata": {},
   "outputs": [
    {
     "data": {
      "text/plain": [
       "(tensor([-0.5177,  0.0590,  0.1155, -0.0305,  1.4863, -0.3414,  0.1150, -0.5277,\n",
       "         -0.5194], grad_fn=<AddBackward0>),\n",
       " tensor([-0.0290], grad_fn=<AddBackward0>))"
      ]
     },
     "execution_count": 7,
     "metadata": {},
     "output_type": "execute_result"
    }
   ],
   "source": [
    "import torch\n",
    "\n",
    "obs = env.reset()\n",
    "obs, _, _, _ = env.step(0)\n",
    "obs[\"obs\"] = torch.from_numpy(obs[\"obs\"]).float()\n",
    "\n",
    "policy.model.forward(obs, None, None)[0], policy.model.value_function()"
   ]
  },
  {
   "cell_type": "code",
   "execution_count": null,
   "metadata": {},
   "outputs": [],
   "source": []
  }
 ],
 "metadata": {
  "interpreter": {
   "hash": "427166c6866757fedeb7a2febe05154ed2df1afb9fbbc6747ca66691cd6660dd"
  },
  "kernelspec": {
   "display_name": "Python 3.9.12 ('RL')",
   "language": "python",
   "name": "python3"
  },
  "language_info": {
   "codemirror_mode": {
    "name": "ipython",
    "version": 3
   },
   "file_extension": ".py",
   "mimetype": "text/x-python",
   "name": "python",
   "nbconvert_exporter": "python",
   "pygments_lexer": "ipython3",
   "version": "3.9.12"
  },
  "orig_nbformat": 4
 },
 "nbformat": 4,
 "nbformat_minor": 2
}
